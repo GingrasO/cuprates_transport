{
 "cells": [
  {
   "cell_type": "markdown",
   "metadata": {},
   "source": [
    "# Display orbits over the Fermi Surface"
   ]
  },
  {
   "cell_type": "code",
   "execution_count": 3,
   "metadata": {},
   "outputs": [],
   "source": [
    "import numpy as np\n",
    "from numpy import cos, sin, pi\n",
    "from skimage import measure\n",
    "import plotly.plotly as py\n",
    "import plotly.graph_objs as go\n",
    "import plotly.figure_factory as ff\n",
    "from band_structure import *\n",
    "from diff_equation import *"
   ]
  },
  {
   "cell_type": "code",
   "execution_count": 4,
   "metadata": {},
   "outputs": [],
   "source": [
    "a = 1\n",
    "b = 1\n",
    "c = 1\n",
    "\n",
    "t   =  1.\n",
    "tp  = -0.14 * t\n",
    "tpp =  0.07 * t\n",
    "tz  =  0.07 * t\n",
    "mu  = 0.81 * t # van Hove 0.84\n",
    "\n",
    "band_parameters = np.array([a, b, c, mu, t, tp, tpp, tz])\n",
    "\n",
    "mesh_xy = 54 # 28 must be a multiple of 4\n",
    "mesh_z = 21 # 11 ideal to be fast and accurate"
   ]
  },
  {
   "cell_type": "code",
   "execution_count": 5,
   "metadata": {},
   "outputs": [],
   "source": [
    "kx_a = np.linspace(-pi/a, pi/a, mesh_xy)\n",
    "ky_a = np.linspace(-pi/b, pi/b, mesh_xy)\n",
    "kz_a = np.linspace(-2*pi/c, 2*pi/c, mesh_z) # 2*pi/c because bodycentered unit cell\n",
    "\n",
    "kxx, kyy, kzz = np.meshgrid(kx_a, ky_a, kz_a)"
   ]
  },
  {
   "cell_type": "code",
   "execution_count": 6,
   "metadata": {},
   "outputs": [],
   "source": [
    "bands = e_3D_func(kxx, kyy, kzz, band_parameters)"
   ]
  },
  {
   "cell_type": "code",
   "execution_count": 7,
   "metadata": {},
   "outputs": [
    {
     "data": {
      "text/html": [
       "<iframe id=\"igraph\" scrolling=\"no\" style=\"border:none;\" seamless=\"seamless\" src=\"https://plot.ly/~ggrissonnanche/100.embed\" height=\"800px\" width=\"800px\"></iframe>"
      ],
      "text/plain": [
       "<plotly.tools.PlotlyDisplay object>"
      ]
     },
     "execution_count": 7,
     "metadata": {},
     "output_type": "execute_result"
    }
   ],
   "source": [
    "vertices, simplices = measure.marching_cubes_classic(bands, 0)\n",
    "x,y,z = zip(*vertices)\n",
    "\n",
    "# for x_raw in X_raw:\n",
    "#     x = (x_raw/(mesh_xy-1)-0.5)*2*pi/a\n",
    "# for y_raw in Y_raw:\n",
    "#     y = (y_raw/(mesh_xy-1)-0.5)*2*pi/b\n",
    "# for z_raw in Z_raw:\n",
    "#     z = (z_raw/(mesh_z-1)-0.5)*2*pi/c\n",
    "colormap=['rgb(255,105,180)','rgb(255,255,51)','rgb(255,105,180)']\n",
    "fig = ff.create_trisurf(x=x,\n",
    "                        y=y, \n",
    "                        z=z, \n",
    "                        plot_edges=False,\n",
    "                        colormap=colormap,\n",
    "                        simplices=simplices,\n",
    "                        title=\"Fermi Surface\")\n",
    "py.iplot(fig, filename = \"myfig.pdf\")"
   ]
  }
 ],
 "metadata": {
  "kernelspec": {
   "display_name": "Python 3",
   "language": "python",
   "name": "python3"
  },
  "language_info": {
   "codemirror_mode": {
    "name": "ipython",
    "version": 3
   },
   "file_extension": ".py",
   "mimetype": "text/x-python",
   "name": "python",
   "nbconvert_exporter": "python",
   "pygments_lexer": "ipython3",
   "version": "3.6.6"
  }
 },
 "nbformat": 4,
 "nbformat_minor": 2
}
