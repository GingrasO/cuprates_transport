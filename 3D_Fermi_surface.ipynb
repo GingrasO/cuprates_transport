{
 "cells": [
  {
   "cell_type": "markdown",
   "metadata": {},
   "source": [
    "# Display orbits over the Fermi Surface"
   ]
  },
  {
   "cell_type": "code",
   "execution_count": 2,
   "metadata": {},
   "outputs": [],
   "source": [
    "import numpy as np\n",
    "from numpy import cos, sin, pi\n",
    "from skimage import measure\n",
    "import plotly.plotly as py\n",
    "import plotly.graph_objs as go\n",
    "import plotly.figure_factory as ff\n",
    "from color_maps_plotly import *\n",
    "from band_structure import *\n",
    "from diff_equation import *"
   ]
  },
  {
   "cell_type": "code",
   "execution_count": 3,
   "metadata": {},
   "outputs": [],
   "source": [
    "a = 1\n",
    "b = 1\n",
    "c = 1\n",
    "\n",
    "t   =  1.\n",
    "tp  = -0.14 * t\n",
    "tpp =  0.07 * t\n",
    "tz  =  0.07 * t\n",
    "mu  = 1.1 * t # van Hove 0.84\n",
    "\n",
    "tau = 25\n",
    "\n",
    "## Magnetic field\n",
    "B_amp = 0.05\n",
    "B_theta = 30 * pi / 180\n",
    "B_phi = 0 * pi / 180\n",
    "\n",
    "band_parameters = np.array([a, b, c, mu, t, tp, tpp, tz])\n",
    "\n",
    "mesh_xy = 56 # 28 must be a multiple of 4\n",
    "mesh_z = 11 # 11 ideal to be fast and accurate"
   ]
  },
  {
   "cell_type": "markdown",
   "metadata": {},
   "source": [
    "Calculate initial kf"
   ]
  },
  {
   "cell_type": "code",
   "execution_count": 4,
   "metadata": {},
   "outputs": [],
   "source": [
    "kf, vf, dkf, number_contours = discretize_FS(band_parameters, mesh_xy, mesh_z, half_FS_z = False)"
   ]
  },
  {
   "cell_type": "markdown",
   "metadata": {},
   "source": [
    "Calculates kft"
   ]
  },
  {
   "cell_type": "code",
   "execution_count": 5,
   "metadata": {},
   "outputs": [],
   "source": [
    "tmax = 10 * tau\n",
    "dt = tmax / 500\n",
    "t = np.arange(0, tmax, dt)\n",
    "\n",
    "## Compute B ////#\n",
    "B = B_func(B_amp, B_theta, B_phi)\n",
    "\n",
    "## Run solver ///#\n",
    "kft = rgk4_algorithm(kf, t, B, band_parameters)"
   ]
  },
  {
   "cell_type": "markdown",
   "metadata": {},
   "source": [
    "Calculate the 3D surface"
   ]
  },
  {
   "cell_type": "code",
   "execution_count": 6,
   "metadata": {},
   "outputs": [],
   "source": [
    "mesh_xy_graph = 100\n",
    "mesh_z_graph = 30\n",
    "kx_a = np.linspace(-pi/a, pi/a, mesh_xy_graph)\n",
    "ky_a = np.linspace(-pi/b, pi/b, mesh_xy_graph)\n",
    "kz_a = np.linspace(-2*pi/c, 2*pi/c, mesh_z_graph) # 2*pi/c because bodycentered unit cell\n",
    "\n",
    "kxx, kyy, kzz = np.meshgrid(kx_a, ky_a, kz_a)\n",
    "\n",
    "bands = e_3D_func(kxx, kyy, kzz, band_parameters)\n",
    "\n",
    "vertices, simplices = measure.marching_cubes_classic(bands, 0)\n",
    "kxf = (vertices[:,0]/(mesh_xy_graph-1)-0.5)*2*pi/a\n",
    "kyf = (vertices[:,1]/(mesh_xy_graph-1)-0.5)*2*pi/b\n",
    "kzf = (vertices[:,2]/(mesh_z_graph-1)-0.5)*4*pi/c\n",
    "\n",
    "def vzFunction(kx,ky,kz):\n",
    "    return abs(v_3D_func(kx, ky, kz, band_parameters)[2])"
   ]
  },
  {
   "cell_type": "code",
   "execution_count": 7,
   "metadata": {},
   "outputs": [],
   "source": [
    "magma=magma_colormap()\n",
    "\n",
    "colorscale=['rgb(20,29,67)',\n",
    "           'rgb(28,76,96)',\n",
    "           'rgb(16,125,121)',\n",
    "           'rgb(92,166,133)',\n",
    "           'rgb(182,202,175)',\n",
    "           'rgb(253,245,243)',\n",
    "           'rgb(230,183,162)',\n",
    "           'rgb(211,118,105)',\n",
    "           'rgb(174,63,95)',\n",
    "           'rgb(116,25,93)',\n",
    "           'rgb(51,13,53)']\n",
    "\n",
    "fermi_surface = ff.create_trisurf(x=kxf,\n",
    "                        y=kyf, \n",
    "                        z=kzf, \n",
    "                        plot_edges=False,\n",
    "                        color_func = vzFunction,\n",
    "                        colormap = ['rgb(174,43,85)', 'rgb(174,123,145)'],\n",
    "                        simplices=simplices,\n",
    "                        title=\"Fermi Surface\")"
   ]
  },
  {
   "cell_type": "code",
   "execution_count": null,
   "metadata": {},
   "outputs": [
    {
     "data": {
      "application/vnd.jupyter.widget-view+json": {
       "model_id": "e8b0ab3fbe6f4521b5082f876b35dcca",
       "version_major": 2,
       "version_minor": 0
      },
      "text/plain": [
       "VBox(children=(FigureWidget({\n",
       "    'data': [{'facecolor': array(['rgb(174, 54, 94)', 'rgb(174, 50, 91)', 'rgb(1…"
      ]
     },
     "metadata": {},
     "output_type": "display_data"
    }
   ],
   "source": [
    "from ipywidgets import interactive, HBox, VBox, interact\n",
    "\n",
    "\n",
    "trajectory = go.Scatter3d(\n",
    "    x=kft[0,int(mesh_xy*mesh_z/2),:],\n",
    "    y=kft[1,int(mesh_xy*mesh_z/2),:],\n",
    "    z=kft[2,int(mesh_xy*mesh_z/2),:],\n",
    "    mode='markers',\n",
    "    marker=dict(\n",
    "        color='rgb(0, 0, 255)',\n",
    "        size=1,\n",
    "        symbol='circle',\n",
    "        line=dict(\n",
    "                color='rgb(0, 0, 255)',\n",
    "                width=1\n",
    "                  ),\n",
    "                )\n",
    ")\n",
    "\n",
    "camera = dict(\n",
    "    up=dict(x=0, y=0, z=1),\n",
    "    center=dict(x=0, y=0, z=0),\n",
    "    eye=dict(x=1.25, y=1.25, z=1.05)\n",
    ")\n",
    "\n",
    "data_to_plot = [fermi_surface.data[0], fermi_surface.data[1], trajectory]\n",
    "\n",
    "\n",
    "f = go.FigureWidget(\n",
    "        data = data_to_plot,\n",
    "        layout = go.Layout(\n",
    "            title='Fermi Surface',\n",
    "        #     scene=dict(camera=camera),\n",
    "            autosize=False,\n",
    "            scene = dict(aspectmode = 'manual', aspectratio = dict(x=1, y=1, z=1),\n",
    "                        xaxis = dict(nticks=4, range = [-pi/a,pi/a], title = 'kx'),\n",
    "                        yaxis = dict(nticks=4, range = [-pi/b,pi/b], title = 'ky'),\n",
    "                        zaxis = dict(nticks=4, range = [-2*pi/c,2*pi/c], title = 'kz'),\n",
    "                         camera = camera\n",
    "                        ),\n",
    "            width=800,\n",
    "            height=600,\n",
    "            margin=dict(l=25,r=20,b=25,t=90)\n",
    "                           ),\n",
    "                    )\n",
    "\n",
    "def update_trajectory(position):\n",
    "    f.data[2].x = kft[0,position,:]\n",
    "    f.data[2].y = kft[1,position,:]\n",
    "    f.data[2].z = kft[2,position,:]\n",
    "\n",
    "    \n",
    "position_slider = interactive(update_trajectory, position = (0, mesh_xy*mesh_z, 10))\n",
    "vb = VBox((f, position_slider))\n",
    "vb.layout.align_items = 'center'\n",
    "vb"
   ]
  },
  {
   "cell_type": "code",
   "execution_count": 9,
   "metadata": {},
   "outputs": [],
   "source": [
    "# py.iplot([fermi_surface.data[0], fermi_surface.data[1], trajectory], filename = \"myfig.pdf\")"
   ]
  },
  {
   "cell_type": "code",
   "execution_count": null,
   "metadata": {},
   "outputs": [],
   "source": []
  }
 ],
 "metadata": {
  "kernelspec": {
   "display_name": "Python 3",
   "language": "python",
   "name": "python3"
  },
  "language_info": {
   "codemirror_mode": {
    "name": "ipython",
    "version": 3
   },
   "file_extension": ".py",
   "mimetype": "text/x-python",
   "name": "python",
   "nbconvert_exporter": "python",
   "pygments_lexer": "ipython3",
   "version": "3.6.6"
  }
 },
 "nbformat": 4,
 "nbformat_minor": 2
}
